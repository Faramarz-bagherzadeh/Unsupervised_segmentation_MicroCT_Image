{
 "cells": [
  {
   "cell_type": "code",
   "execution_count": 1,
   "id": "7a3c9b24",
   "metadata": {},
   "outputs": [],
   "source": [
    "import tifffile\n",
    "import matplotlib.pyplot as plt\n",
    "import pyvista as pv\n",
    "import cv2 as cv\n",
    "import numpy as np\n",
    "import itertools\n",
    "import scipy\n",
    "import time\n",
    "from sklearn.mixture import GaussianMixture as GMM\n",
    "from scipy.ndimage import generic_filter\n"
   ]
  },
  {
   "cell_type": "code",
   "execution_count": 2,
   "id": "5bf2da0b",
   "metadata": {},
   "outputs": [
    {
     "name": "stdout",
     "output_type": "stream",
     "text": [
      "(8721, 1008, 1008)\n"
     ]
    }
   ],
   "source": [
    "files = ['B51_bag02.tif' , 'B51_bag40.tif' , 'B51_bag80.tif' , 'B51_bag120.tif']\n",
    "input_path = ''\n",
    "file_number = 3\n",
    "img = tifffile.imread(input_path+files [file_number])\n",
    "print (img.shape)\n"
   ]
  },
  {
   "cell_type": "code",
   "execution_count": 3,
   "id": "090135f0",
   "metadata": {},
   "outputs": [],
   "source": [
    "def filter_region_of_interest(vol,threshold = 30):\n",
    "    mask = np.zeros_like(vol)\n",
    "    for i in range (vol.shape[0]):\n",
    "        \n",
    "        #Threshholding \n",
    "        ret,thresh = cv.threshold(vol[i], threshold, 1, cv.THRESH_BINARY)\n",
    "\n",
    "        # Finding contours for the thresholded image\n",
    "        contours, hierarchy = cv.findContours(thresh, cv.RETR_TREE, cv.CHAIN_APPROX_SIMPLE)\n",
    "        # Concatenate all contours into a single array\n",
    "        all_points = np.concatenate(contours)\n",
    "        #contours = sorted(contours, key=lambda x: cv.contourArea(x), reverse=True)\n",
    "        convexHull = cv.convexHull(all_points)\n",
    "        cv.drawContours(mask[i], [convexHull], -1, 1, -1 )\n",
    "    \n",
    "    return mask\n",
    "    \n"
   ]
  },
  {
   "cell_type": "code",
   "execution_count": 4,
   "id": "4962315c",
   "metadata": {},
   "outputs": [],
   "source": [
    "def get_neighbours (vol, window_box = (3, 3, 3)):\n",
    "    \n",
    "    from skimage.util import view_as_windows\n",
    "    \n",
    "    #get window properties of single pixel 27 features\n",
    "    original_shape = vol.shape\n",
    "\n",
    "    \n",
    "\n",
    "    neighborhoods = view_as_windows(vol, window_box)\n",
    "    \n",
    "\n",
    "    return neighborhoods,original_shape"
   ]
  },
  {
   "cell_type": "code",
   "execution_count": 5,
   "id": "056968ac",
   "metadata": {},
   "outputs": [],
   "source": [
    "def get_training_features(vol,neighborhoods, window_box = 3*3*3):\n",
    "    \n",
    "    ice_area = filter_region_of_interest(vol)\n",
    "    \n",
    "    training_n_elements = len(ice_area[ice_area > 0])\n",
    "    trainig_features = np.zeros((training_n_elements, window_box))\n",
    "    \n",
    "    # resizing the ice area to the size that the neighbours are available (dropping one leayer each dimenssion)\n",
    "    if window_box == 3*3*3:\n",
    "        ice_area = ice_area [1:ice_area.shape[0]-1, 1:ice_area.shape[1]-1, 1:ice_area.shape[2]-1 ]\n",
    "    else:\n",
    "        print ('croping part needs to be modified')\n",
    "    \n",
    "    trainig_features = neighborhoods [ice_area > 0]\n",
    "    trainig_features = trainig_features.reshape((trainig_features.shape[0], -1))\n",
    "                    \n",
    "    return trainig_features"
   ]
  },
  {
   "cell_type": "code",
   "execution_count": 6,
   "id": "c92bdf23",
   "metadata": {},
   "outputs": [],
   "source": [
    "def train_GMM (trainig_features):\n",
    "    \n",
    "    trainig_features = trainig_features.astype('float32')\n",
    "    trainig_features = cv.normalize(trainig_features, None, alpha=0, beta=1, norm_type=cv.NORM_MINMAX, dtype=cv.CV_32F)\n",
    "    \n",
    "    gmm_model = GMM(n_components=2, random_state=20, covariance_type='tied', init_params='kmeans').fit(trainig_features)\n",
    "    ice_class = gmm_model.means_.round(3).tolist()\n",
    "    ice_class_index = ice_class.index(max(ice_class))\n",
    "    \n",
    "    return gmm_model, ice_class_index\n"
   ]
  },
  {
   "cell_type": "code",
   "execution_count": 7,
   "id": "6d171532",
   "metadata": {},
   "outputs": [],
   "source": [
    "def predict_with_GMM (gmm_model, ice_class_index, neighborhoods):\n",
    "    \n",
    "    neighborhoods = neighborhoods.astype('float32')\n",
    "    neighborhoods = cv.normalize(neighborhoods, None, alpha=0, beta=1, norm_type=cv.NORM_MINMAX, dtype=cv.CV_32F)\n",
    "    #shape>> (n,n,n,3,3,3)\n",
    "    \n",
    "    segmented = np.zeros((neighborhoods.shape[0],neighborhoods.shape[1],neighborhoods.shape[2]))\n",
    "    \n",
    "    reshaped_ne = neighborhoods.reshape(neighborhoods.shape[0],neighborhoods.shape[1],neighborhoods.shape[2] , -1)\n",
    "    #shape>> (n,n,n,27)\n",
    "    \n",
    "    reshaped_ne = reshaped_ne.reshape(reshaped_ne.shape[0]*reshaped_ne.shape[1]*reshaped_ne.shape[2],reshaped_ne.shape[3])\n",
    "    #shape>> (n,27)\n",
    "    \n",
    "    \n",
    "    predictions = gmm_model.predict(reshaped_ne)\n",
    "    predictions = predictions.reshape((neighborhoods.shape[0], neighborhoods.shape[1], neighborhoods.shape[2]))\n",
    "\n",
    "    segmented[predictions == ice_class_index] = 100\n",
    "    segmented[predictions != ice_class_index] = 0\n",
    "    segmented = segmented.astype('uint8')\n",
    "    \n",
    "    return segmented\n",
    "    \n",
    "    "
   ]
  },
  {
   "cell_type": "code",
   "execution_count": 8,
   "id": "755a24e1",
   "metadata": {},
   "outputs": [
    {
     "name": "stdout",
     "output_type": "stream",
     "text": [
      "37537\n"
     ]
    }
   ],
   "source": [
    "t1 = time.time()\n",
    "batch = 100\n",
    "\n",
    "#starting layer should be more than 1\n",
    "starting_layer = 75\n",
    "ending_layer = 8267\n",
    "\n",
    "n_layers = ending_layer - starting_layer\n",
    "cycle = n_layers//batch\n",
    "\n",
    "# creating a numpy array to concatinate the reuslts into it\n",
    "segmented = np.zeros((1,img.shape[1]-2,img.shape[2]-2), dtype = 'uint8')\n",
    "\n",
    "for i in range (cycle):\n",
    "    print(round(i*100//cycle), end='\\r')\n",
    "    \n",
    "    if i == cycle-1: # the last batch will take some extra images\n",
    "        vol = img[starting_layer+(i*batch)-1:ending_layer]\n",
    "    else:\n",
    "        vol = img[starting_layer+(i*batch)-1 : starting_layer+((i+1)*batch)+1 ]\n",
    "\n",
    "    \n",
    "    neighbours, _ = get_neighbours(vol) #shape>> (n, 3*3*3)\n",
    "    trainig_features = get_training_features(vol, neighbours) #shape>> (n, 3*3*3) pixels only in region of interest\n",
    "    gmm_model, ice_class_index = train_GMM (trainig_features)\n",
    "    prediction = predict_with_GMM(gmm_model, ice_class_index, neighbours) #shape>> (n, 1008, 1008)\n",
    "    segmented = np.concatenate((segmented, prediction),0)\n",
    "    \n",
    "t2 = time.time()\n",
    "print (round(t2-t1))"
   ]
  },
  {
   "cell_type": "code",
   "execution_count": 9,
   "id": "8d7740c1",
   "metadata": {},
   "outputs": [],
   "source": [
    "tifffile.imwrite(input_path+ '//GMM_3D//' + files [file_number], segmented)\n",
    "tifffile.imwrite(input_path+ '//GMM_3D//' + 'corresponding_img_' + files [file_number], img[starting_layer:ending_layer, 1:-1, 1:-1])"
   ]
  }
 ],
 "metadata": {
  "kernelspec": {
   "display_name": "Python 3 (ipykernel)",
   "language": "python",
   "name": "python3"
  },
  "language_info": {
   "codemirror_mode": {
    "name": "ipython",
    "version": 3
   },
   "file_extension": ".py",
   "mimetype": "text/x-python",
   "name": "python",
   "nbconvert_exporter": "python",
   "pygments_lexer": "ipython3",
   "version": "3.10.4"
  }
 },
 "nbformat": 4,
 "nbformat_minor": 5
}
